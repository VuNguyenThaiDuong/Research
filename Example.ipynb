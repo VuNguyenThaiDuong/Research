{
 "cells": [
  {
   "cell_type": "code",
   "execution_count": 1,
   "id": "9115a2d2-aa50-4933-a432-5af09507e3f5",
   "metadata": {},
   "outputs": [
    {
     "name": "stdout",
     "output_type": "stream",
     "text": [
      "=================================================Information File=======================================================\n",
      "Processing file: N_BaIoT_dataloader.csv\n",
      "Target Details:\n",
      "count         94970\n",
      "unique           11\n",
      "top       mirai.udp\n",
      "freq           8984\n",
      "Name: Default_label, dtype: object\n",
      "Scaling names : StandardScaler\n",
      "Train data saved to: /home/jupyter-le02/Data/Train_N_BaIoT_dataloader.csv\n",
      "Test data saved to: /home/jupyter-le02/Data/Test_N_BaIoT_dataloader.csv\n",
      "=================================================Information File=======================================================\n",
      "Processing file: data_CICIoT2023.csv\n",
      "Target Details:\n",
      "count               99514\n",
      "unique                 34\n",
      "top       DDoS-ICMP_Flood\n",
      "freq                 3000\n",
      "Name: Default_label, dtype: object\n",
      "Scaling names : StandardScaler\n",
      "Train data saved to: /home/jupyter-le02/Data/Train_data_CICIoT2023.csv\n",
      "Test data saved to: /home/jupyter-le02/Data/Test_data_CICIoT2023.csv\n"
     ]
    }
   ],
   "source": [
    "# Import class đã định nghĩa trước đó\n",
    "from data_preprocessor import DataPreprocessor\n",
    "import os\n",
    "import pandas as pd\n",
    "import numpy as np\n",
    "from sklearn.model_selection import train_test_split\n",
    "from sklearn.preprocessing import LabelEncoder, StandardScaler, MinMaxScaler, Normalizer, QuantileTransformer\n",
    "\n",
    "current_directory = os.getcwd()\n",
    "raw_data_directory = os.path.join(current_directory, 'Raw Data')\n",
    "output_directory = os.path.join(current_directory, 'Data')\n",
    "\n",
    "file_paths = ['N_BaIoT_dataloader.csv', 'data_CICIoT2023.csv']\n",
    "target_labels = ['Default_label', 'Default_label']\n",
    "columns_to_drop = [\n",
    "    [\"Unnamed: 0\", 'Category_label'],\n",
    "    ['DHCP', 'ece_flag_number', 'Telnet', 'SMTP', 'IRC', 'Category_label']\n",
    "]\n",
    "scaler_names = ['StandardScaler']\n",
    "\n",
    "# Instantiate DataPreprocessor\n",
    "preprocessor = DataPreprocessor(raw_data_directory, output_directory, scaler_names)\n",
    "\n",
    "# Preprocess files\n",
    "preprocessor.preprocess_multiple_files(file_paths, target_labels, columns_to_drop)\n"
   ]
  }
 ],
 "metadata": {
  "kernelspec": {
   "display_name": "Python 3 (ipykernel)",
   "language": "python",
   "name": "python3"
  },
  "language_info": {
   "codemirror_mode": {
    "name": "ipython",
    "version": 3
   },
   "file_extension": ".py",
   "mimetype": "text/x-python",
   "name": "python",
   "nbconvert_exporter": "python",
   "pygments_lexer": "ipython3",
   "version": "3.10.10"
  }
 },
 "nbformat": 4,
 "nbformat_minor": 5
}
